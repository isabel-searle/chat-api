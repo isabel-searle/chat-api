{
 "cells": [
  {
   "cell_type": "code",
   "execution_count": 529,
   "metadata": {},
   "outputs": [
    {
     "name": "stderr",
     "output_type": "stream",
     "text": [
      "[nltk_data] Downloading package vader_lexicon to\n",
      "[nltk_data]     /Users/isabelsearleriesgo/nltk_data...\n",
      "[nltk_data]   Package vader_lexicon is already up-to-date!\n"
     ]
    }
   ],
   "source": [
    "from bs4 import BeautifulSoup\n",
    "from faker import Faker\n",
    "import requests\n",
    "import random\n",
    "import nltk\n",
    "from nltk.sentiment.vader import SentimentIntensityAnalyzer\n",
    "nltk.download(\"vader_lexicon\")\n",
    "sia = SentimentIntensityAnalyzer()\n",
    "import pandas as pd\n",
    "from datetime import datetime\n"
   ]
  },
  {
   "cell_type": "code",
   "execution_count": 381,
   "metadata": {},
   "outputs": [],
   "source": [
    "def add_fake_messages(num_of_msg):\n",
    "    try:\n",
    "        messages = [faker.text(max_nb_chars=40) for i in range(num_of_msg)]\n",
    "    except TypeError:\n",
    "        raise TypeError(\"Enter an integer\")\n",
    "        users = requests.get(\"http://127.0.0.1:5000/table/users\")\n",
    "        for i in messages:\n",
    "            iduser=random.randint(0,len(users.json()))\n",
    "            url = f\"http://127.0.0.1:5000/messages?idusers={iduser}&message_content={i}\"\n",
    "        return requests.get(url)"
   ]
  },
  {
   "cell_type": "code",
   "execution_count": 409,
   "metadata": {},
   "outputs": [],
   "source": [
    "add_fake_messages(3)"
   ]
  },
  {
   "cell_type": "code",
   "execution_count": 406,
   "metadata": {},
   "outputs": [],
   "source": [
    "def add_messages(message):\n",
    "    users = requests.get(\"http://127.0.0.1:5000/table/users\")\n",
    "    iduser=random.randint(0,len(users.json()))\n",
    "    url = f\"http://127.0.0.1:5000/messages?idusers={iduser}&message_content={message}\"\n",
    "    return requests.get(url)"
   ]
  },
  {
   "cell_type": "code",
   "execution_count": 408,
   "metadata": {},
   "outputs": [
    {
     "data": {
      "text/plain": [
       "<Response [200]>"
      ]
     },
     "execution_count": 408,
     "metadata": {},
     "output_type": "execute_result"
    }
   ],
   "source": [
    "add_messages('I felt in love with the boss')"
   ]
  },
  {
   "cell_type": "code",
   "execution_count": 403,
   "metadata": {},
   "outputs": [],
   "source": [
    "def add_messages_by_dept(message, dept):\n",
    "    users = requests.get(\"http://127.0.0.1:5000/table/users\")\n",
    "    df_users=pd.DataFrame(users.json())\n",
    "    us=df_users[df_users['department']==dept]['idusers'].tolist()\n",
    "    iduser=random.choice(us)\n",
    "    url = f\"http://127.0.0.1:5000/messages?idusers={iduser}&message_content={message}\"\n",
    "    return requests.get(url)"
   ]
  },
  {
   "cell_type": "code",
   "execution_count": 404,
   "metadata": {},
   "outputs": [
    {
     "data": {
      "text/plain": [
       "<Response [200]>"
      ]
     },
     "execution_count": 404,
     "metadata": {},
     "output_type": "execute_result"
    }
   ],
   "source": [
    "add_messages_by_dept('I hate this job', 'Marketing')"
   ]
  },
  {
   "cell_type": "code",
   "execution_count": 384,
   "metadata": {},
   "outputs": [],
   "source": [
    "def get_all_messages():\n",
    "    url = \"http://127.0.0.1:5000/table/messages\"\n",
    "    text = requests.get(url)\n",
    "    to_analize = [i['message_content'] for i in text.json()] \n",
    "    return to_analize"
   ]
  },
  {
   "cell_type": "code",
   "execution_count": 414,
   "metadata": {},
   "outputs": [
    {
     "data": {
      "text/plain": [
       "['Catch want two form TV develop above.',\n",
       " 'I hate this job',\n",
       " 'I felt in love with the boss']"
      ]
     },
     "execution_count": 414,
     "metadata": {},
     "output_type": "execute_result"
    }
   ],
   "source": [
    "get_all_messages()[-3:]"
   ]
  },
  {
   "cell_type": "code",
   "execution_count": 415,
   "metadata": {},
   "outputs": [],
   "source": [
    "def get_messages_by_dept(dept):\n",
    "    try:\n",
    "        pass\n",
    "    except NameError:\n",
    "        dept=str(dept)\n",
    "        pass\n",
    "    messages = requests.get(\"http://127.0.0.1:5000/table/messages\")\n",
    "    users = requests.get(\"http://127.0.0.1:5000/table/users\")\n",
    "    df_messages=pd.DataFrame(messages.json())\n",
    "    df_users=pd.DataFrame(users.json())\n",
    "    df_merged=df_users.merge(df_messages)\n",
    "    df_merged['date_time'] = [i['$date']/1000 for i in df_merged['date_time']]\n",
    "    df_merged['date_time'] = df_merged['date_time'].map(lambda x: datetime.fromtimestamp(x).strftime(\"%d/%m/%Y, %H:%M:%S\")) \n",
    "    return list(df_merged[df_merged['department']==dept]['message_content'])\n",
    "    "
   ]
  },
  {
   "cell_type": "code",
   "execution_count": 416,
   "metadata": {},
   "outputs": [
    {
     "data": {
      "text/plain": [
       "['I hate this job']"
      ]
     },
     "execution_count": 416,
     "metadata": {},
     "output_type": "execute_result"
    }
   ],
   "source": [
    "get_messages_by_dept('Marketing')"
   ]
  },
  {
   "cell_type": "code",
   "execution_count": 417,
   "metadata": {},
   "outputs": [],
   "source": [
    "def get_messages_by_date(date):\n",
    "    if type(date) == str:\n",
    "        if \"-\" in date:\n",
    "            date=date.replace(\"-\",\"/\")\n",
    "        else:\n",
    "            pass\n",
    "        messages = requests.get(\"http://127.0.0.1:5000/table/messages\")\n",
    "        users = requests.get(\"http://127.0.0.1:5000/table/users\")\n",
    "        df_messages=pd.DataFrame(messages.json())\n",
    "        df_users=pd.DataFrame(users.json())\n",
    "        df_merged=df_users.merge(df_messages)\n",
    "        df_merged['date_time'] = [i['$date']/1000 for i in df_merged['date_time']]\n",
    "        df_merged['date_time'] = df_merged['date_time'].map(lambda x: datetime.fromtimestamp(x).strftime(\"%d/%m/%Y\")) \n",
    "        return list(df_merged[df_merged['date_time']==date]['message_content'])\n",
    "    else:\n",
    "        raise TypeError(\"Enter a string %d/%m/%Y\")      "
   ]
  },
  {
   "cell_type": "code",
   "execution_count": 418,
   "metadata": {},
   "outputs": [
    {
     "data": {
      "text/plain": [
       "['I felt in love with the boss',\n",
       " 'Catch want two form TV develop above.',\n",
       " 'I hate this job']"
      ]
     },
     "execution_count": 418,
     "metadata": {},
     "output_type": "execute_result"
    }
   ],
   "source": [
    "get_messages_by_date('30/11/2020')"
   ]
  },
  {
   "cell_type": "code",
   "execution_count": 419,
   "metadata": {},
   "outputs": [],
   "source": [
    "def global_happiness():\n",
    "    url = \"http://127.0.0.1:5000/table/messages\"\n",
    "    text = requests.get(url)\n",
    "    to_analize = [i['message_content'] for i in text.json()]\n",
    "    sentiment=[sia.polarity_scores(i) for i in to_analize]\n",
    "    pos=0\n",
    "    neg=0\n",
    "    for i in sentiment:\n",
    "        pos+=i['pos']\n",
    "        neg+=i['neg']\n",
    "    mean_pos=pos/(len(sentiment))\n",
    "    mean_neg=neg/(len(sentiment))\n",
    "    if mean_pos < mean_neg:\n",
    "        return print(\"Your employees are unhappy 😔\")\n",
    "    else:\n",
    "        return print(\"Your employees are happy! 😃\")"
   ]
  },
  {
   "cell_type": "code",
   "execution_count": 420,
   "metadata": {},
   "outputs": [
    {
     "name": "stdout",
     "output_type": "stream",
     "text": [
      "Your employees are happy! 😃\n"
     ]
    }
   ],
   "source": [
    "global_happiness()"
   ]
  },
  {
   "cell_type": "code",
   "execution_count": 421,
   "metadata": {},
   "outputs": [],
   "source": [
    "def happiness_by_dept(dept):\n",
    "    messages = requests.get(\"http://127.0.0.1:5000/table/messages\")\n",
    "    users = requests.get(\"http://127.0.0.1:5000/table/users\")\n",
    "    df_messages=pd.DataFrame(messages.json())\n",
    "    df_users=pd.DataFrame(users.json())\n",
    "    df_merged=df_users.merge(df_messages)\n",
    "    df_merged['date_time'] = [i['$date']/1000 for i in df_merged['date_time']]\n",
    "    df_merged['date_time'] = df_merged['date_time'].map(lambda x: datetime.fromtimestamp(x).strftime(\"%d/%m/%Y, %H:%M:%S\")) \n",
    "    to_analize=list(df_merged[df_merged['department']==dept]['message_content'])\n",
    "    sentiment=[sia.polarity_scores(i) for i in to_analize]\n",
    "    pos=0\n",
    "    neg=0\n",
    "    for i in sentiment:\n",
    "        pos+=i['pos']\n",
    "        neg+=i['neg']\n",
    "    mean_pos=pos/(len(sentiment))\n",
    "    mean_neg=neg/(len(sentiment))\n",
    "    if mean_pos < mean_neg:\n",
    "        return print(\"Your team is unhappy 😔\")\n",
    "    else:\n",
    "        return print(\"Your team is happy! 😃\")"
   ]
  },
  {
   "cell_type": "code",
   "execution_count": 422,
   "metadata": {},
   "outputs": [
    {
     "name": "stdout",
     "output_type": "stream",
     "text": [
      "Your team is unhappy 😔\n"
     ]
    }
   ],
   "source": [
    "happiness_by_dept('Marketing')"
   ]
  },
  {
   "cell_type": "code",
   "execution_count": 423,
   "metadata": {},
   "outputs": [],
   "source": [
    "def get_complet_table():\n",
    "    messages = requests.get(\"http://127.0.0.1:5000/table/messages\")\n",
    "    users = requests.get(\"http://127.0.0.1:5000/table/users\")\n",
    "    df_messages=pd.DataFrame(messages.json())\n",
    "    df_users=pd.DataFrame(users.json())\n",
    "    df_merged=df_users.merge(df_messages)\n",
    "    df_merged['date_time'] = [i['$date']/1000 for i in df_merged['date_time']]\n",
    "    df_merged['date_time'] = df_merged['date_time'].map(lambda x: datetime.fromtimestamp(x).strftime(\"%d/%m/%Y, %H:%M:%S\"))\n",
    "    return df_merged"
   ]
  },
  {
   "cell_type": "code",
   "execution_count": 425,
   "metadata": {},
   "outputs": [
    {
     "data": {
      "text/html": [
       "<div>\n",
       "<style scoped>\n",
       "    .dataframe tbody tr th:only-of-type {\n",
       "        vertical-align: middle;\n",
       "    }\n",
       "\n",
       "    .dataframe tbody tr th {\n",
       "        vertical-align: top;\n",
       "    }\n",
       "\n",
       "    .dataframe thead th {\n",
       "        text-align: right;\n",
       "    }\n",
       "</style>\n",
       "<table border=\"1\" class=\"dataframe\">\n",
       "  <thead>\n",
       "    <tr style=\"text-align: right;\">\n",
       "      <th></th>\n",
       "      <th>idusers</th>\n",
       "      <th>name</th>\n",
       "      <th>lastname</th>\n",
       "      <th>department</th>\n",
       "      <th>idmessages</th>\n",
       "      <th>message_content</th>\n",
       "      <th>date_time</th>\n",
       "    </tr>\n",
       "  </thead>\n",
       "  <tbody>\n",
       "    <tr>\n",
       "      <th>0</th>\n",
       "      <td>1</td>\n",
       "      <td>Pepe</td>\n",
       "      <td>Ruiz</td>\n",
       "      <td>IT</td>\n",
       "      <td>1</td>\n",
       "      <td>holaquetal</td>\n",
       "      <td>28/11/2020, 20:29:56</td>\n",
       "    </tr>\n",
       "    <tr>\n",
       "      <th>1</th>\n",
       "      <td>1</td>\n",
       "      <td>Pepe</td>\n",
       "      <td>Ruiz</td>\n",
       "      <td>IT</td>\n",
       "      <td>2</td>\n",
       "      <td>holaquetal</td>\n",
       "      <td>28/11/2020, 20:29:58</td>\n",
       "    </tr>\n",
       "    <tr>\n",
       "      <th>2</th>\n",
       "      <td>1</td>\n",
       "      <td>Pepe</td>\n",
       "      <td>Ruiz</td>\n",
       "      <td>IT</td>\n",
       "      <td>3</td>\n",
       "      <td>holaquetal</td>\n",
       "      <td>28/11/2020, 20:32:13</td>\n",
       "    </tr>\n",
       "  </tbody>\n",
       "</table>\n",
       "</div>"
      ],
      "text/plain": [
       "   idusers  name lastname department  idmessages message_content  \\\n",
       "0        1  Pepe     Ruiz         IT           1      holaquetal   \n",
       "1        1  Pepe     Ruiz         IT           2      holaquetal   \n",
       "2        1  Pepe     Ruiz         IT           3      holaquetal   \n",
       "\n",
       "              date_time  \n",
       "0  28/11/2020, 20:29:56  \n",
       "1  28/11/2020, 20:29:58  \n",
       "2  28/11/2020, 20:32:13  "
      ]
     },
     "execution_count": 425,
     "metadata": {},
     "output_type": "execute_result"
    }
   ],
   "source": [
    "get_complet_table().head(3)"
   ]
  },
  {
   "cell_type": "markdown",
   "metadata": {},
   "source": [
    "# Elthon John \"Tiny Dancer\""
   ]
  },
  {
   "cell_type": "code",
   "execution_count": 620,
   "metadata": {},
   "outputs": [],
   "source": [
    "def messages_love():\n",
    "    url = \"https://genius.com/Elton-john-tiny-dancer-lyrics\"\n",
    "    data = requests.get(url)\n",
    "    soup = BeautifulSoup(data.text)\n",
    "    song = soup.select('.Lyrics__Container-sc-1ynbvzw-2.jgQsqn')\n",
    "    lyric=song[0].text\n",
    "    return [lyric[i:i+40] for i in range(0, len(lyric), 40)]"
   ]
  },
  {
   "cell_type": "markdown",
   "metadata": {},
   "source": [
    "# Elvis song \"Only You\""
   ]
  },
  {
   "cell_type": "code",
   "execution_count": 615,
   "metadata": {},
   "outputs": [],
   "source": [
    "def messages_mix():\n",
    "    url = \"https://www.allthelyrics.com/lyrics/elvis_presley/only_you-lyrics-423192.html\"\n",
    "    data = requests.get(url)\n",
    "    soup = BeautifulSoup(data.text)\n",
    "    song = soup.select('.content-text-inner')\n",
    "    lyric=\"\".join(song[0].text.split('\\n'))\n",
    "    return [lyric[i:i+40] for i in range(0, len(lyric), 40)]"
   ]
  },
  {
   "cell_type": "markdown",
   "metadata": {},
   "source": [
    "# The All American Rejects \"Gives you hell\""
   ]
  },
  {
   "cell_type": "code",
   "execution_count": 569,
   "metadata": {},
   "outputs": [],
   "source": [
    "def messages_hate():\n",
    "    url = \"https://genius.com/The-all-american-rejects-gives-you-hell-lyrics\"\n",
    "    data = requests.get(url)\n",
    "    soup = BeautifulSoup(data.text)\n",
    "    song = soup.select('.Lyrics__Container-sc-1ynbvzw-2.jgQsqn')\n",
    "    lyric=song[2].text\n",
    "    return [lyric[i:i+40] for i in range(0, len(lyric), 40)]"
   ]
  },
  {
   "cell_type": "markdown",
   "metadata": {},
   "source": [
    "# Marketing"
   ]
  },
  {
   "cell_type": "code",
   "execution_count": 603,
   "metadata": {},
   "outputs": [],
   "source": [
    "marketing = messages_hate()\n",
    "for j in marketing:\n",
    "    add_messages_by_dept(j, 'Marketing')"
   ]
  },
  {
   "cell_type": "markdown",
   "metadata": {},
   "source": [
    "# BI"
   ]
  },
  {
   "cell_type": "code",
   "execution_count": 622,
   "metadata": {},
   "outputs": [],
   "source": [
    "bi = messages_love()\n",
    "for j in bi:\n",
    "    add_messages_by_dept(j, 'BI')"
   ]
  },
  {
   "cell_type": "markdown",
   "metadata": {},
   "source": [
    "# Operations"
   ]
  },
  {
   "cell_type": "code",
   "execution_count": 624,
   "metadata": {},
   "outputs": [],
   "source": [
    "operations = messages_mix()\n",
    "for j in operations:\n",
    "    add_messages_by_dept(j, 'Operations')"
   ]
  }
 ],
 "metadata": {
  "kernelspec": {
   "display_name": "Python 3",
   "language": "python",
   "name": "python3.8"
  },
  "language_info": {
   "codemirror_mode": {
    "name": "ipython",
    "version": 3
   },
   "file_extension": ".py",
   "mimetype": "text/x-python",
   "name": "python",
   "nbconvert_exporter": "python",
   "pygments_lexer": "ipython3",
   "version": "3.8.6"
  }
 },
 "nbformat": 4,
 "nbformat_minor": 4
}
